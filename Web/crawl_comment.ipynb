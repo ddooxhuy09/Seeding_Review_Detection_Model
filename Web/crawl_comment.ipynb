{
 "cells": [
  {
   "cell_type": "code",
   "execution_count": 7,
   "metadata": {},
   "outputs": [],
   "source": [
    "import requests\n",
    "from bs4 import BeautifulSoup\n",
    "import pandas as pd\n",
    "import uuid"
   ]
  },
  {
   "cell_type": "code",
   "execution_count": 8,
   "metadata": {},
   "outputs": [],
   "source": [
    "headers = {\n",
    "'User-Agent': 'Mozilla/5.0 (X11; Linux x86_64) AppleWebKit/537.36 (KHTML, like Gecko) Chrome/125.0.0.0 Safari/537.36', \n",
    "'Accept-Language': 'en-US, en;q=0.5'\n",
    "}\n",
    "\n",
    "reviews_data = []\n",
    "\n",
    "product_url = \"https://www.amazon.com/BENGOO-G9000-Controller-Cancelling-Headphones/dp/B0982NYVQV/ref=sr_1_1?_encoding=UTF8&content-id=amzn1.sym.12129333-2117-4490-9c17-6d31baf0582a&dib=eyJ2IjoiMSJ9.zHoOmh6S7kPeAkWr3bmSFujzmFyXR34ww0ALkmBYjkXhagdAxOb3Y7aZTuAeIHwIF_qzPLTafg14p05y5PYY-uHzX2_ciOG67H0XZ_9tAdt3AKRC6HzSEtie8T4KjId0Vx_kLy2c9QX2ncsOPH7quKmttStTWxHed4cG5NIILD5ICSvcv2EAu06J45jZ0xSRrcJ0H3QZ3IakZdH1559wSDD7S0lVJmFZ_vWRbF-hqZw.n-4GV3Upn3UaSUXWYRfEaPRd8z5wpDaVyhgKkvBBeYc&dib_tag=se&keywords=gaming%2Bheadsets&pd_rd_r=bd5ed9d3-3573-4446-8d81-d7375181a15e&pd_rd_w=7ksi8&pd_rd_wg=mg6oK&pf_rd_p=12129333-2117-4490-9c17-6d31baf0582a&pf_rd_r=8X28HGF3RM76XBTSNJ2K&qid=1730012048&sr=8-1&th=1\"\n",
    "\n",
    "webpage = requests.get(product_url)"
   ]
  },
  {
   "cell_type": "code",
   "execution_count": 9,
   "metadata": {},
   "outputs": [],
   "source": [
    "soup = BeautifulSoup(webpage.text, \"html.parser\")"
   ]
  },
  {
   "cell_type": "code",
   "execution_count": 10,
   "metadata": {},
   "outputs": [],
   "source": [
    "def get_title(soup):\n",
    "    try:\n",
    "        title = soup.find(\"span\", attrs={\"id\": 'productTitle'})\n",
    "        title_value = title.text\n",
    "        title_string = title_value.strip()\n",
    "    except AttributeError:\n",
    "        title_string = \"\"\n",
    "    return title_string"
   ]
  },
  {
   "cell_type": "code",
   "execution_count": 11,
   "metadata": {},
   "outputs": [],
   "source": [
    "product_title = get_title(soup)"
   ]
  },
  {
   "cell_type": "code",
   "execution_count": 12,
   "metadata": {},
   "outputs": [
    {
     "name": "stdout",
     "output_type": "stream",
     "text": [
      "\n"
     ]
    }
   ],
   "source": [
    "print(product_title)"
   ]
  }
 ],
 "metadata": {
  "kernelspec": {
   "display_name": "base",
   "language": "python",
   "name": "python3"
  },
  "language_info": {
   "codemirror_mode": {
    "name": "ipython",
    "version": 3
   },
   "file_extension": ".py",
   "mimetype": "text/x-python",
   "name": "python",
   "nbconvert_exporter": "python",
   "pygments_lexer": "ipython3",
   "version": "3.11.3"
  }
 },
 "nbformat": 4,
 "nbformat_minor": 2
}
